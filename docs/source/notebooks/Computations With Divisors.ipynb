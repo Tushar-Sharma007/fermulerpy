{
 "cells": [
  {
   "cell_type": "markdown",
   "source": [
    "# Computations with Divisors\r\n",
    "## Import required modules"
   ],
   "metadata": {}
  },
  {
   "cell_type": "code",
   "execution_count": 2,
   "source": [
    "import fermulerpy.elementary as fle"
   ],
   "outputs": [],
   "metadata": {}
  },
  {
   "cell_type": "markdown",
   "source": [
    "## Calculating count and sum of divisors"
   ],
   "metadata": {}
  },
  {
   "cell_type": "code",
   "execution_count": 3,
   "source": [
    "num = 240\r\n",
    "count = fle.divisor_count(num)\r\n",
    "sum = fle.divisor_sum(num)\r\n",
    "print(\"Number of divisors of\", num, \"are : \", count)\r\n",
    "print(\"Sum of divisors of\", num, \"are : \", sum)"
   ],
   "outputs": [
    {
     "output_type": "stream",
     "name": "stdout",
     "text": [
      "Number of divisors of 240 are :  20\n",
      "Sum of divisors of 240 are :  744\n"
     ]
    }
   ],
   "metadata": {}
  },
  {
   "cell_type": "markdown",
   "source": [
    "## Product of diviors of a large number\r\n",
    "You can get the result for a 13 digit number in less than 0.1s"
   ],
   "metadata": {}
  },
  {
   "cell_type": "code",
   "execution_count": 11,
   "source": [
    "num = 5162789023412\r\n",
    "product = fle.divisor_product(num)\r\n",
    "print(\"Product of all divisors of \", num, \"are: \", product)"
   ],
   "outputs": [
    {
     "output_type": "stream",
     "name": "stdout",
     "text": [
      "Product of all divisors of  5162789023412 are:  358601858800674428618605283527315701838505459933141910971013048236961328189210010649251044232999284310484319553504477001710708198735758208908517271666688\n"
     ]
    }
   ],
   "metadata": {}
  },
  {
   "cell_type": "markdown",
   "source": [
    "## Let's solve an intersting problem related to divisors\r\n",
    "Let f(n) denotes the number of number of divisors integer n. Find some of the positive integers such that f(n) <= f(n-1)"
   ],
   "metadata": {}
  },
  {
   "cell_type": "code",
   "execution_count": 12,
   "source": [
    "start = 2\r\n",
    "end = 100\r\n",
    "required_numbers = []\r\n",
    "for i in range(start, end+1):\r\n",
    "    if(fle.divisor_count(i) <= fle.divisor_count(i-1)):\r\n",
    "        required_numbers.append(i)\r\n",
    "print(required_numbers)"
   ],
   "outputs": [
    {
     "output_type": "stream",
     "name": "stdout",
     "text": [
      "[3, 5, 7, 9, 11, 13, 15, 17, 19, 21, 22, 23, 25, 27, 29, 31, 33, 34, 35, 37, 39, 41, 43, 45, 46, 47, 49, 51, 53, 55, 57, 58, 59, 61, 65, 67, 69, 71, 73, 76, 77, 79, 81, 82, 83, 85, 86, 87, 89, 91, 93, 94, 95, 97, 99]\n"
     ]
    }
   ],
   "metadata": {}
  },
  {
   "cell_type": "markdown",
   "source": [
    "## Important observation\r\n",
    "All odd numbers from 2 to 99 satisfies the above relation !\r\n",
    "Let's verify it for large numbers between 100000 and 1000000"
   ],
   "metadata": {}
  },
  {
   "cell_type": "code",
   "execution_count": 15,
   "source": [
    "start = 100000\r\n",
    "end = 1000000\r\n",
    "all_odd_numbers_satisfy_relation = True\r\n",
    "for i in range(start, end+1):\r\n",
    "    if(i%2 == 1 and fle.divisor_count(i) > fle.divisor_count(i-1)):\r\n",
    "        all_odd_numbers_satisfy_relation = False\r\n",
    "        break\r\n",
    "if(all_odd_numbers_satisfy_relation):\r\n",
    "    print(\"Relation Verified !\")\r\n",
    "else:\r\n",
    "    print(\"Wrong assumption\")"
   ],
   "outputs": [
    {
     "output_type": "stream",
     "name": "stdout",
     "text": [
      "Wrong assumption\n"
     ]
    }
   ],
   "metadata": {}
  },
  {
   "cell_type": "markdown",
   "source": [
    "## That's easy with fermulerpy !"
   ],
   "metadata": {}
  }
 ],
 "metadata": {
  "orig_nbformat": 4,
  "language_info": {
   "name": "python",
   "version": "3.6.5",
   "mimetype": "text/x-python",
   "codemirror_mode": {
    "name": "ipython",
    "version": 3
   },
   "pygments_lexer": "ipython3",
   "nbconvert_exporter": "python",
   "file_extension": ".py"
  },
  "kernelspec": {
   "name": "python3",
   "display_name": "Python 3.6.5 64-bit ('base': conda)"
  },
  "interpreter": {
   "hash": "1589dba3cc57e5c78c04f5612450f5a60c8c004c593d7b3b78f44386383add76"
  }
 },
 "nbformat": 4,
 "nbformat_minor": 2
}