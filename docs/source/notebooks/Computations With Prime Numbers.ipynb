{
 "cells": [
  {
   "cell_type": "markdown",
   "source": [
    "# Computations With Prime Numbers\r\n",
    "### Import required modules (ensure that fermulerpy is installed in your system)"
   ],
   "metadata": {}
  },
  {
   "cell_type": "code",
   "execution_count": 1,
   "source": [
    "import fermulerpy.elementary as fle"
   ],
   "outputs": [],
   "metadata": {}
  },
  {
   "cell_type": "markdown",
   "source": [
    "### Primarily test on large numbers"
   ],
   "metadata": {}
  },
  {
   "cell_type": "code",
   "execution_count": 3,
   "source": [
    "num = 6864797660130609714981900799081393217269435300143305409394463459185543183397656052122559640661454554977296311391480858037121987999716643812574028291115057151\r\n",
    "if(fle.isPrime(num)):\r\n",
    "    print(\"It is a prime number\")\r\n",
    "else:\r\n",
    "    print(\"Not a prime number\")"
   ],
   "outputs": [
    {
     "output_type": "stream",
     "name": "stdout",
     "text": [
      "It is a prime number\n"
     ]
    }
   ],
   "metadata": {}
  },
  {
   "cell_type": "markdown",
   "source": [
    "### Generating series of prime numbers\r\n",
    "#### There are two methods for generating prime numbers\r\n",
    "- Generate specific count of prime numbers\r\n",
    "- Generate prime numbers within a range"
   ],
   "metadata": {}
  },
  {
   "cell_type": "code",
   "execution_count": 10,
   "source": [
    "'''\r\n",
    "Method 1: Generate 10 smallest prime numbers\r\n",
    "'''\r\n",
    "arr1 = fle.prime_series(10)\r\n",
    "print(arr1)\r\n",
    "\r\n",
    "'''\r\n",
    "Method 2: Generate all prime numbers between 7 and 45 (both inclusive)\r\n",
    "'''\r\n",
    "arr2 = fle.SieveOfEratosthenes(7,45)\r\n",
    "print(arr2)"
   ],
   "outputs": [
    {
     "output_type": "stream",
     "name": "stdout",
     "text": [
      "[2, 3, 5, 7, 11, 13, 17, 19, 23, 29]\n",
      "[7, 11, 13, 17, 19, 23, 29, 31, 37, 41, 43]\n"
     ]
    }
   ],
   "metadata": {}
  },
  {
   "cell_type": "markdown",
   "source": [
    "### Generate n'th prime number"
   ],
   "metadata": {}
  },
  {
   "cell_type": "code",
   "execution_count": 11,
   "source": [
    "num = 100\r\n",
    "prime_num = fle.prime(100)\r\n",
    "print(prime_num)"
   ],
   "outputs": [
    {
     "output_type": "stream",
     "name": "stdout",
     "text": [
      "541\n"
     ]
    }
   ],
   "metadata": {}
  }
 ],
 "metadata": {
  "orig_nbformat": 4,
  "language_info": {
   "name": "python",
   "version": "3.6.5",
   "mimetype": "text/x-python",
   "codemirror_mode": {
    "name": "ipython",
    "version": 3
   },
   "pygments_lexer": "ipython3",
   "nbconvert_exporter": "python",
   "file_extension": ".py"
  },
  "kernelspec": {
   "name": "python3",
   "display_name": "Python 3.6.5 64-bit ('base': conda)"
  },
  "interpreter": {
   "hash": "1589dba3cc57e5c78c04f5612450f5a60c8c004c593d7b3b78f44386383add76"
  }
 },
 "nbformat": 4,
 "nbformat_minor": 2
}